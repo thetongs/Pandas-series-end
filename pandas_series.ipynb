{
 "cells": [
  {
   "cell_type": "code",
   "execution_count": 1,
   "metadata": {},
   "outputs": [
    {
     "name": "stdout",
     "output_type": "stream",
     "text": [
      "0    1\n",
      "1    2\n",
      "2    3\n",
      "3    4\n",
      "dtype: int64\n"
     ]
    }
   ],
   "source": [
    "## Series pandas\n",
    "# one dimensional labelled array\n",
    "# hold any type of data type\n",
    "\n",
    "# Create series\n",
    "import pandas as pd\n",
    "print(pd.Series([1,2,3,4]))   # pass list    # dtype = int32"
   ]
  },
  {
   "cell_type": "code",
   "execution_count": 2,
   "metadata": {},
   "outputs": [
    {
     "name": "stdout",
     "output_type": "stream",
     "text": [
      "0     True\n",
      "1    False\n",
      "2     True\n",
      "dtype: bool\n"
     ]
    }
   ],
   "source": [
    "# bool list\n",
    "print(pd.Series([True, False, True]))     # dtype = bool"
   ]
  },
  {
   "cell_type": "code",
   "execution_count": 3,
   "metadata": {},
   "outputs": [
    {
     "name": "stdout",
     "output_type": "stream",
     "text": [
      "0    True\n",
      "1       1\n",
      "2    name\n",
      "3     9.8\n",
      "dtype: object\n"
     ]
    }
   ],
   "source": [
    "# Mixed type\n",
    "print(pd.Series([True, 1, 'name', 9.8]))\n",
    "# We can use different datatypes in series but the intention to use homogeneous data\n",
    "# So that we can perform mathematical or common operations effectively"
   ]
  },
  {
   "cell_type": "code",
   "execution_count": 4,
   "metadata": {},
   "outputs": [
    {
     "name": "stdout",
     "output_type": "stream",
     "text": [
      "4    1\n",
      "3    2\n",
      "2    3\n",
      "1    4\n",
      "dtype: int64\n",
      "1\n"
     ]
    }
   ],
   "source": [
    "# Create a Series with your own indexing\n",
    "print(pd.Series([1,2,3,4] , index = [4,3,2,1]))   # We start with index 4\n",
    "cu_series  = pd.Series([1,2,3,4] , index = [4,3,2,1])\n",
    "print(cu_series[4])"
   ]
  },
  {
   "cell_type": "code",
   "execution_count": 5,
   "metadata": {},
   "outputs": [
    {
     "name": "stdout",
     "output_type": "stream",
     "text": [
      "0     4\n",
      "1     8\n",
      "2    12\n",
      "3    16\n",
      "dtype: int64\n"
     ]
    }
   ],
   "source": [
    "# We can use list comprehend feature here\n",
    "print(pd.Series(n*2 for n in range(1,10) if n % 2 == 0))"
   ]
  },
  {
   "cell_type": "code",
   "execution_count": 6,
   "metadata": {},
   "outputs": [
    {
     "name": "stdout",
     "output_type": "stream",
     "text": [
      "{'my': 'name', 'is': 'Kishan'}\n",
      "my      name\n",
      "is    Kishan\n",
      "dtype: object\n"
     ]
    }
   ],
   "source": [
    "# Create series with dictionary\n",
    "dictt = {'my':'name',\n",
    "         'is':'Kishan'}\n",
    "print(dictt)\n",
    "# Create series from dict\n",
    "print(pd.Series(dictt))   # Here series index is key of dictionary"
   ]
  },
  {
   "cell_type": "code",
   "execution_count": 8,
   "metadata": {},
   "outputs": [
    {
     "name": "stdout",
     "output_type": "stream",
     "text": [
      "<class 'pandas.core.frame.DataFrame'>\n"
     ]
    }
   ],
   "source": [
    "# Create series from csv file\n",
    "# We need to create csv file with proper tool otherwise we may end up getting endless columns\n",
    "# With header\n",
    "data = pd.read_csv('sample_csv.csv')\n",
    "print(type(data))"
   ]
  },
  {
   "cell_type": "code",
   "execution_count": 9,
   "metadata": {},
   "outputs": [
    {
     "name": "stdout",
     "output_type": "stream",
     "text": [
      "<class 'pandas.core.frame.DataFrame'>\n"
     ]
    }
   ],
   "source": [
    "# Add header property\n",
    "data_h = pd.read_csv('header_false.csv',header = None)\n",
    "# Type of read_csv \n",
    "print(type(data))"
   ]
  },
  {
   "cell_type": "code",
   "execution_count": 10,
   "metadata": {},
   "outputs": [
    {
     "name": "stdout",
     "output_type": "stream",
     "text": [
      "<class 'pandas.core.series.Series'>\n"
     ]
    }
   ],
   "source": [
    "# How to change or read this csv into series\n",
    "# But the data in csv file must be single column if not then following script will return\n",
    "# data frame\n",
    "data_s = pd.read_csv('header_false.csv', header = None, squeeze = True)\n",
    "print(type(data_s))"
   ]
  },
  {
   "cell_type": "code",
   "execution_count": 11,
   "metadata": {},
   "outputs": [
    {
     "name": "stdout",
     "output_type": "stream",
     "text": [
      "<class 'pandas.core.frame.DataFrame'>\n"
     ]
    }
   ],
   "source": [
    "# When it comes to multi column csv file - It automatically convert it into DataFrame\n",
    "data_m = pd.read_csv('multi_clm.csv')\n",
    "print(type(data_m))"
   ]
  },
  {
   "cell_type": "code",
   "execution_count": 12,
   "metadata": {},
   "outputs": [
    {
     "name": "stdout",
     "output_type": "stream",
     "text": [
      "<class 'pandas.core.series.Series'>\n"
     ]
    }
   ],
   "source": [
    "# Convert DataFrame to Series\n",
    "data_m_series = pd.read_csv('multi_clm.csv', squeeze = True, usecols = ['Day'])\n",
    "print(type(data_m_series))"
   ]
  },
  {
   "cell_type": "code",
   "execution_count": 13,
   "metadata": {},
   "outputs": [
    {
     "name": "stdout",
     "output_type": "stream",
     "text": [
      "0    1\n",
      "1    2\n",
      "2    3\n",
      "3    3\n",
      "Name: Day, dtype: int64\n"
     ]
    }
   ],
   "source": [
    "## Attributes and Methods about Series\n",
    "import pandas as pd\n",
    "dataframe_series = pd.read_csv('multi_clm.csv', squeeze = True, usecols = ['Day'])\n",
    "print(dataframe_series)"
   ]
  },
  {
   "cell_type": "code",
   "execution_count": 14,
   "metadata": {},
   "outputs": [
    {
     "name": "stdout",
     "output_type": "stream",
     "text": [
      "RangeIndex(start=0, stop=4, step=1)\n"
     ]
    }
   ],
   "source": [
    "# Indexing mechanism\n",
    "# It will give you how indexing is assign and what is start, stop index and step\n",
    "print(dataframe_series.index)    # .index is attribute\n",
    "# If we are not using () after word that is attribte not a method"
   ]
  },
  {
   "cell_type": "code",
   "execution_count": 15,
   "metadata": {},
   "outputs": [
    {
     "name": "stdout",
     "output_type": "stream",
     "text": [
      "[1 2 3 3]\n"
     ]
    }
   ],
   "source": [
    "# values of series\n",
    "dataframe_series_val = dataframe_series.values\n",
    "print(dataframe_series_val)"
   ]
  },
  {
   "cell_type": "code",
   "execution_count": 16,
   "metadata": {},
   "outputs": [
    {
     "name": "stdout",
     "output_type": "stream",
     "text": [
      "1\n"
     ]
    }
   ],
   "source": [
    "# dimention of series\n",
    "print(dataframe_series.ndim)   # 1 - dimentional"
   ]
  },
  {
   "cell_type": "code",
   "execution_count": 18,
   "metadata": {},
   "outputs": [
    {
     "name": "stdout",
     "output_type": "stream",
     "text": [
      "int64\n"
     ]
    }
   ],
   "source": [
    "# Type\n",
    "print(dataframe_series.dtype)"
   ]
  },
  {
   "cell_type": "code",
   "execution_count": 19,
   "metadata": {},
   "outputs": [
    {
     "name": "stdout",
     "output_type": "stream",
     "text": [
      "4\n"
     ]
    }
   ],
   "source": [
    "# size of series\n",
    "print(dataframe_series.size)"
   ]
  },
  {
   "cell_type": "code",
   "execution_count": 20,
   "metadata": {},
   "outputs": [
    {
     "name": "stdout",
     "output_type": "stream",
     "text": [
      "False\n"
     ]
    }
   ],
   "source": [
    "# check for unique element in series\n",
    "print(dataframe_series.is_unique)    #  If we haev any column or series elemennt double then it will\n",
    "# return False"
   ]
  },
  {
   "cell_type": "code",
   "execution_count": 21,
   "metadata": {},
   "outputs": [
    {
     "name": "stdout",
     "output_type": "stream",
     "text": [
      "True\n",
      "False\n"
     ]
    }
   ],
   "source": [
    "# Check monotonically increasing or not\n",
    "print(dataframe_series.is_monotonic_increasing)\n",
    "print(dataframe_series.is_monotonic_decreasing)"
   ]
  },
  {
   "cell_type": "code",
   "execution_count": 22,
   "metadata": {},
   "outputs": [
    {
     "name": "stdout",
     "output_type": "stream",
     "text": [
      "game 0    1\n",
      "game 1    2\n",
      "game 2    3\n",
      "game 3    3\n",
      "Name: Day, dtype: int64\n"
     ]
    }
   ],
   "source": [
    "# Methods on series \n",
    "# Add suffix to idexing\n",
    "print(dataframe_series.add_prefix('game '))"
   ]
  },
  {
   "cell_type": "code",
   "execution_count": 23,
   "metadata": {},
   "outputs": [
    {
     "name": "stdout",
     "output_type": "stream",
     "text": [
      "0 gama    1\n",
      "1 gama    2\n",
      "2 gama    3\n",
      "3 gama    3\n",
      "Name: Day, dtype: int64\n"
     ]
    }
   ],
   "source": [
    "# We can also add suffix\n",
    "print(dataframe_series.add_suffix(' gama'))"
   ]
  },
  {
   "cell_type": "code",
   "execution_count": 24,
   "metadata": {},
   "outputs": [
    {
     "name": "stdout",
     "output_type": "stream",
     "text": [
      "9\n"
     ]
    }
   ],
   "source": [
    "# Sum of all values of series\n",
    "print(dataframe_series.sum())"
   ]
  },
  {
   "cell_type": "code",
   "execution_count": 25,
   "metadata": {},
   "outputs": [
    {
     "name": "stdout",
     "output_type": "stream",
     "text": [
      "2\n"
     ]
    }
   ],
   "source": [
    "# Find the index of max element in series\n",
    "print(dataframe_series.idxmax())   # It will check and compare all series element and\n",
    "# give preference to first occurence of max element"
   ]
  },
  {
   "cell_type": "code",
   "execution_count": 26,
   "metadata": {},
   "outputs": [
    {
     "name": "stdout",
     "output_type": "stream",
     "text": [
      "0\n"
     ]
    }
   ],
   "source": [
    "# Find the index of min element in series\n",
    "print(dataframe_series.idxmin())   # It will check and compare all series element and\n",
    "# give preference to first occurence of max element"
   ]
  },
  {
   "cell_type": "code",
   "execution_count": 27,
   "metadata": {},
   "outputs": [
    {
     "name": "stdout",
     "output_type": "stream",
     "text": [
      "0    1\n",
      "1    2\n",
      "2    3\n",
      "3    3\n",
      "Name: Day, dtype: int64\n"
     ]
    }
   ],
   "source": [
    "# Head - 5 values from series\n",
    "head = dataframe_series.head()   # We can pass values inside head() as integer\n",
    "print(head)"
   ]
  },
  {
   "cell_type": "code",
   "execution_count": 28,
   "metadata": {},
   "outputs": [
    {
     "name": "stdout",
     "output_type": "stream",
     "text": [
      "0    1\n",
      "1    2\n",
      "2    3\n",
      "3    3\n",
      "Name: Day, dtype: int64\n"
     ]
    }
   ],
   "source": [
    "# tail - last 5 values\n",
    "tail = dataframe_series.tail()\n",
    "print(tail)"
   ]
  },
  {
   "cell_type": "code",
   "execution_count": 29,
   "metadata": {},
   "outputs": [
    {
     "name": "stdout",
     "output_type": "stream",
     "text": [
      "2.25\n"
     ]
    }
   ],
   "source": [
    "# Average of series\n",
    "print(dataframe_series.mean())"
   ]
  },
  {
   "cell_type": "code",
   "execution_count": 30,
   "metadata": {},
   "outputs": [
    {
     "name": "stdout",
     "output_type": "stream",
     "text": [
      "18\n"
     ]
    }
   ],
   "source": [
    "# Multiply all element\n",
    "print(dataframe_series.product())"
   ]
  },
  {
   "cell_type": "code",
   "execution_count": 31,
   "metadata": {},
   "outputs": [
    {
     "name": "stdout",
     "output_type": "stream",
     "text": [
      "0.9574271077563381\n"
     ]
    }
   ],
   "source": [
    " # Find the standard deviation\n",
    "print(dataframe_series.std())   # The amount of deviation "
   ]
  },
  {
   "cell_type": "code",
   "execution_count": 32,
   "metadata": {},
   "outputs": [
    {
     "name": "stdout",
     "output_type": "stream",
     "text": [
      "(4,)\n"
     ]
    }
   ],
   "source": [
    "# Shape\n",
    "print(dataframe_series.shape)"
   ]
  },
  {
   "cell_type": "code",
   "execution_count": 33,
   "metadata": {},
   "outputs": [
    {
     "name": "stdout",
     "output_type": "stream",
     "text": [
      "4.0\n",
      "2.25\n",
      "0.9574271077563381\n",
      "1.0\n",
      "3.0\n",
      "1.75\n",
      "2.5\n",
      "3.0\n"
     ]
    }
   ],
   "source": [
    "# We calculated individual all information\n",
    "# but we need int or float type series\n",
    "description = dataframe_series.describe() # This will return series object\n",
    "print(description['count'])\n",
    "print(description['mean'])\n",
    "print(description['std'])\n",
    "print(description['min'])\n",
    "print(description['max'])\n",
    "print(description['25%'])\n",
    "print(description['50%'])\n",
    "print(description['75%'])"
   ]
  },
  {
   "cell_type": "code",
   "execution_count": 34,
   "metadata": {},
   "outputs": [],
   "source": [
    "# Sort value\n",
    "temp = [30, 31, 32, 33, 34, 32, 30, 31, 29, 33, 34, 32]\n",
    "month = ['Jan', 'Feb', 'Mar', 'Apr', 'May', 'Jun', 'Jul', 'Aug', 'Sep', 'Oct', 'Nov', 'Dec']\n",
    "data_series = pd.Series(temp, month)   # Here first list will consider as indexing"
   ]
  },
  {
   "cell_type": "code",
   "execution_count": 35,
   "metadata": {},
   "outputs": [
    {
     "name": "stdout",
     "output_type": "stream",
     "text": [
      "Sep    29\n",
      "Jan    30\n",
      "Jul    30\n",
      "Feb    31\n",
      "Aug    31\n",
      "Mar    32\n",
      "Jun    32\n",
      "Dec    32\n",
      "Apr    33\n",
      "Oct    33\n",
      "May    34\n",
      "Nov    34\n",
      "dtype: int64\n",
      "Nov    34\n",
      "May    34\n",
      "Oct    33\n",
      "Apr    33\n",
      "Dec    32\n",
      "Jun    32\n",
      "Mar    32\n",
      "Aug    31\n",
      "Feb    31\n",
      "Jul    30\n",
      "Jan    30\n",
      "Sep    29\n",
      "dtype: int64\n"
     ]
    }
   ],
   "source": [
    "# sort values\n",
    "print(data_series.sort_values())  # Ascending\n",
    "print(data_series.sort_values(ascending = False))  # Descending"
   ]
  },
  {
   "cell_type": "code",
   "execution_count": 36,
   "metadata": {},
   "outputs": [
    {
     "name": "stdout",
     "output_type": "stream",
     "text": [
      "Sep    29\n",
      "Jan    30\n",
      "Jul    30\n",
      "Feb    31\n",
      "Aug    31\n",
      "Mar    32\n",
      "Jun    32\n",
      "Dec    32\n",
      "Apr    33\n",
      "Oct    33\n",
      "May    34\n",
      "Nov    34\n",
      "dtype: int64\n"
     ]
    }
   ],
   "source": [
    "# Assignment and permant change\n",
    "data_series = data_series.sort_values()\n",
    "print(data_series)   # sorted in same series"
   ]
  },
  {
   "cell_type": "code",
   "execution_count": 37,
   "metadata": {},
   "outputs": [
    {
     "name": "stdout",
     "output_type": "stream",
     "text": [
      "Sep    29\n",
      "Jan    30\n",
      "Jul    30\n",
      "Feb    31\n",
      "Aug    31\n",
      "Mar    32\n",
      "Jun    32\n",
      "Dec    32\n",
      "Apr    33\n",
      "Oct    33\n",
      "May    34\n",
      "Nov    34\n",
      "dtype: int64\n"
     ]
    }
   ],
   "source": [
    "# But if we do not want to assign every time we want permant change\n",
    "data_series.sort_values(inplace = True)\n",
    "print(data_series)  # Done"
   ]
  },
  {
   "cell_type": "code",
   "execution_count": 38,
   "metadata": {},
   "outputs": [
    {
     "name": "stdout",
     "output_type": "stream",
     "text": [
      "Index(['Sep', 'Jan', 'Jul', 'Feb', 'Aug', 'Mar', 'Jun', 'Dec', 'Apr', 'Oct',\n",
      "       'May', 'Nov'],\n",
      "      dtype='object')\n",
      "Apr    33\n",
      "Aug    31\n",
      "Dec    32\n",
      "Feb    31\n",
      "Jan    30\n",
      "Jul    30\n",
      "Jun    32\n",
      "Mar    32\n",
      "May    34\n",
      "Nov    34\n",
      "Oct    33\n",
      "Sep    29\n",
      "dtype: int64\n",
      "Sep    29\n",
      "Oct    33\n",
      "Nov    34\n",
      "May    34\n",
      "Mar    32\n",
      "Jun    32\n",
      "Jul    30\n",
      "Jan    30\n",
      "Feb    31\n",
      "Dec    32\n",
      "Aug    31\n",
      "Apr    33\n",
      "dtype: int64\n"
     ]
    }
   ],
   "source": [
    "# Sort indexing\n",
    "print(data_series.index)\n",
    "print(data_series.sort_index())\n",
    "print(data_series.sort_index(ascending = False))"
   ]
  },
  {
   "cell_type": "code",
   "execution_count": 39,
   "metadata": {},
   "outputs": [],
   "source": [
    "# Built in function\n",
    "temp = [30, 31, 32, 33, 34, 32, 30, 31, 29, 33, 34, 32]\n",
    "month = ['Jan', 'Feb', 'Mar', 'Apr', 'May', 'Jun', 'Jul', 'Aug', 'Sep', 'Oct', 'Nov', 'Dec']\n",
    "data_series = pd.Series(temp, month)   # Here first list will consider as indexing"
   ]
  },
  {
   "cell_type": "code",
   "execution_count": 40,
   "metadata": {},
   "outputs": [
    {
     "name": "stdout",
     "output_type": "stream",
     "text": [
      "12\n"
     ]
    }
   ],
   "source": [
    "# length\n",
    "print(len(data_series))"
   ]
  },
  {
   "cell_type": "code",
   "execution_count": 41,
   "metadata": {},
   "outputs": [
    {
     "name": "stdout",
     "output_type": "stream",
     "text": [
      "<class 'pandas.core.series.Series'>\n"
     ]
    }
   ],
   "source": [
    "# Type\n",
    "print(type(data_series))"
   ]
  },
  {
   "cell_type": "code",
   "execution_count": 42,
   "metadata": {},
   "outputs": [],
   "source": [
    "# Type conversion\n",
    "list_series = list(data_series)\n",
    "dict_series = dict(data_series)"
   ]
  },
  {
   "cell_type": "code",
   "execution_count": 43,
   "metadata": {},
   "outputs": [
    {
     "name": "stdout",
     "output_type": "stream",
     "text": [
      "[29, 30, 30, 31, 31, 32, 32, 32, 33, 33, 34, 34]\n"
     ]
    }
   ],
   "source": [
    "# Sorted\n",
    "print(sorted(data_series))"
   ]
  },
  {
   "cell_type": "code",
   "execution_count": 44,
   "metadata": {},
   "outputs": [
    {
     "name": "stdout",
     "output_type": "stream",
     "text": [
      "34\n",
      "29\n"
     ]
    }
   ],
   "source": [
    "# max\n",
    "print(max(data_series))\n",
    "print(min(data_series))"
   ]
  },
  {
   "cell_type": "code",
   "execution_count": 45,
   "metadata": {},
   "outputs": [],
   "source": [
    "## Extract values from series\n",
    "temp = [30, 31, 32, 33, 34, 32, 30, 31, 29, 33, 34, 32]\n",
    "month = ['Jan', 'Feb', 'Mar', 'Apr', 'May', 'Jun', 'Jul', 'Aug', 'Sep', 'Oct', 'Nov', 'Dec']\n",
    "data_series = pd.Series(temp, month)   # Here first list will consider as indexing"
   ]
  },
  {
   "cell_type": "code",
   "execution_count": 46,
   "metadata": {},
   "outputs": [
    {
     "name": "stdout",
     "output_type": "stream",
     "text": [
      "Jan    30\n",
      "Feb    31\n",
      "Mar    32\n",
      "Apr    33\n",
      "May    34\n",
      "Jun    32\n",
      "Jul    30\n",
      "Aug    31\n",
      "Sep    29\n",
      "Oct    33\n",
      "Nov    34\n",
      "Dec    32\n",
      "dtype: int64\n",
      "Mar    32\n",
      "Apr    33\n",
      "May    34\n",
      "Jun    32\n",
      "Jul    30\n",
      "Aug    31\n",
      "Sep    29\n",
      "Oct    33\n",
      "Nov    34\n",
      "Dec    32\n",
      "dtype: int64\n",
      "Jan    30\n",
      "Feb    31\n",
      "Mar    32\n",
      "dtype: int64\n",
      "Jan    30\n",
      "Feb    31\n",
      "dtype: int64\n"
     ]
    }
   ],
   "source": [
    "# \n",
    "print(data_series[:])  # All\n",
    "print(data_series[2:]) # From index\n",
    "print(data_series[:3])  # last three\n",
    "# We can use all indexing same aslist on series\n",
    "# Grap individual\n",
    "print(data_series[['Jan', 'Feb']])"
   ]
  },
  {
   "cell_type": "code",
   "execution_count": 47,
   "metadata": {},
   "outputs": [
    {
     "name": "stdout",
     "output_type": "stream",
     "text": [
      "Female    2\n",
      "Male      2\n",
      "dtype: int64\n"
     ]
    }
   ],
   "source": [
    "# value count\n",
    "gender_series = pd.Series(['Male', 'Female', 'Female', 'Male'])\n",
    "print(gender_series.value_counts())"
   ]
  },
  {
   "cell_type": "code",
   "execution_count": 48,
   "metadata": {},
   "outputs": [],
   "source": [
    "# apply and map\n",
    "temp = [30, 31, 32, 33, 34, 32, 30, 31, 29, 33, 34, 32]\n",
    "month = ['Jan', 'Feb', 'Mar', 'Apr', 'May', 'Jun', 'Jul', 'Aug', 'Sep', 'Oct', 'Nov', 'Dec']\n",
    "data_series = pd.Series(temp, month)   # Here first list will consider as indexing"
   ]
  },
  {
   "cell_type": "code",
   "execution_count": 49,
   "metadata": {},
   "outputs": [
    {
     "name": "stdout",
     "output_type": "stream",
     "text": [
      "Jan    86.0\n",
      "Feb    87.8\n",
      "Mar    89.6\n",
      "Apr    91.4\n",
      "May    93.2\n",
      "Jun    89.6\n",
      "Jul    86.0\n",
      "Aug    87.8\n",
      "Sep    84.2\n",
      "Oct    91.4\n",
      "Nov    93.2\n",
      "Dec    89.6\n",
      "dtype: float64\n"
     ]
    }
   ],
   "source": [
    "# We can pass or add series to our own created function\n",
    "# Apply\n",
    "# Take every element from series and apply function of converter\n",
    "def converter(C):\n",
    "    return ((C * 1.8) + 32)\n",
    "\n",
    "print(data_series.apply(converter))"
   ]
  },
  {
   "cell_type": "code",
   "execution_count": 50,
   "metadata": {},
   "outputs": [
    {
     "name": "stdout",
     "output_type": "stream",
     "text": [
      "Jan    300.0\n",
      "Feb    310.0\n",
      "Mar    100.0\n",
      "Apr      NaN\n",
      "May      NaN\n",
      "Jun    100.0\n",
      "Jul    300.0\n",
      "Aug    310.0\n",
      "Sep      NaN\n",
      "Oct      NaN\n",
      "Nov      NaN\n",
      "Dec    100.0\n",
      "dtype: float64\n"
     ]
    }
   ],
   "source": [
    "# Map \n",
    "# take input argument as dictionary\n",
    "# and map the values present in series \n",
    "# It will make unmatch values as NaN\n",
    "\n",
    "dicti = {30: 300, 31: 310, 32: 100}\n",
    "print(data_series.map(dicti))"
   ]
  },
  {
   "cell_type": "code",
   "execution_count": null,
   "metadata": {},
   "outputs": [],
   "source": []
  },
  {
   "cell_type": "code",
   "execution_count": null,
   "metadata": {},
   "outputs": [],
   "source": []
  }
 ],
 "metadata": {
  "kernelspec": {
   "display_name": "Python 3",
   "language": "python",
   "name": "python3"
  },
  "language_info": {
   "codemirror_mode": {
    "name": "ipython",
    "version": 3
   },
   "file_extension": ".py",
   "mimetype": "text/x-python",
   "name": "python",
   "nbconvert_exporter": "python",
   "pygments_lexer": "ipython3",
   "version": "3.7.4"
  }
 },
 "nbformat": 4,
 "nbformat_minor": 2
}
